{
 "cells": [
  {
   "cell_type": "code",
   "execution_count": null,
   "metadata": {},
   "outputs": [],
   "source": [
    "from astropy.coordinates import SkyCoord\n",
    "import astropy.units as u\n",
    "#for s.no 1\n",
    "c1 = SkyCoord(205.5407,28.3798,unit=\"deg\")\n",
    "c2 = SkyCoord(data['34'],data['35'],unit=\"deg\")\n",
    "data['sep']=c1.separation(c2)\n",
    "data['sep'].min()\n",
    "data[data['sep']==data['sep'].min()]\n",
    "#for s.no 2\n",
    "c1 = SkyCoord(205.5729,28.359,unit=\"deg\")\n",
    "c2 = SkyCoord(data['34'],data['35'],unit=\"deg\")\n",
    "data['sep2']=c1.separation(c2)\n",
    "data[data['sep2']==data['sep2'].min()]"
   ]
  }
 ],
 "metadata": {
  "kernelspec": {
   "display_name": "Python 3",
   "language": "python",
   "name": "python3"
  },
  "language_info": {
   "codemirror_mode": {
    "name": "ipython",
    "version": 3
   },
   "file_extension": ".py",
   "mimetype": "text/x-python",
   "name": "python",
   "nbconvert_exporter": "python",
   "pygments_lexer": "ipython3",
   "version": "3.6.5"
  }
 },
 "nbformat": 4,
 "nbformat_minor": 2
}
